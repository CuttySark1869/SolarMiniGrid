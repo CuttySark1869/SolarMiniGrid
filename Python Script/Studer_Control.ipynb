{
 "cells": [
  {
   "cell_type": "markdown",
   "metadata": {},
   "source": [
    "**Description**: the following script is dedicated to communicate and control (retrieve info and send commands) Xtender via scom\n",
    "\n",
    "**Developing Operating System**: Windows 7 Enterprise SP1\n",
    "\n",
    "**Developing Environment**: Anaconda Python 2.7.13\n",
    "\n",
    "**First created**: 10/03/2017 (10th March 2017)\n",
    "\n",
    "**Last modified**: 12/04/2017\n",
    "\n",
    "**Author**: Minghao Xu\n",
    "\n",
    "**Scom Version**: 1.6.26\n",
    "\n",
    "**Xtender Version**: 1.6.22\n",
    "\n",
    "**BSP Version**: 1.6.14\n",
    "\n",
    "**Script Version**: 0.2"
   ]
  },
  {
   "cell_type": "markdown",
   "metadata": {},
   "source": [
    "## 1. Import packages"
   ]
  },
  {
   "cell_type": "code",
   "execution_count": null,
   "metadata": {
    "collapsed": true
   },
   "outputs": [],
   "source": [
    "import serial\n",
    "import subprocess\n",
    "import os\n",
    "import numpy as np\n",
    "import time\n",
    "from datetime import datetime\n",
    "from datetime import timedelta"
   ]
  },
  {
   "cell_type": "markdown",
   "metadata": {},
   "source": [
    "## 2. Set pre-defined paramets and functions"
   ]
  },
  {
   "cell_type": "markdown",
   "metadata": {},
   "source": [
    "### 2.1 Pre-define parameters and paths"
   ]
  },
  {
   "cell_type": "code",
   "execution_count": null,
   "metadata": {
    "collapsed": false
   },
   "outputs": [],
   "source": [
    "# paths\n",
    "cwd  = os.getcwd()\n",
    "dir_scom = 'H:\\Profiles_Do_Not_Delete\\campus\\Desktop\\SoLa Kit\\scom.exe'\n",
    "# port\n",
    "port_name = 'COM1'\n",
    "# verbose\n",
    "verbose_num = 3\n",
    "# whether to display full info of fetched info\n",
    "display_output = False\n",
    "# whether to chech port\n",
    "chech_port = True\n",
    "# whether to test communication protocol with serial port\n",
    "test_comm = True\n",
    "# whether to open a serial port\n",
    "open_port = False\n",
    "# open Xtender\n",
    "xtender_open = True\n",
    "# close Xtender\n",
    "xtender_close = False\n",
    "# Xtender initialization\n",
    "extender_init = True\n",
    "# RCC initialization\n",
    "rcc_init = True\n",
    "# BSP initialization\n",
    "bsp_init = True"
   ]
  },
  {
   "cell_type": "markdown",
   "metadata": {},
   "source": [
    "### 2.2 Pre-define Command Class"
   ]
  },
  {
   "cell_type": "code",
   "execution_count": null,
   "metadata": {
    "collapsed": true
   },
   "outputs": [],
   "source": [
    "# The class below are created for storing parameters related to certain function.\n",
    "# The class also includes functions to create commands for reading or writing data\n",
    "# with Studer device.\n",
    "#------------------------------------------------------------------------------------------------------\n",
    "class ScomCommand:\n",
    "    # count the number of parameters used to generate command\n",
    "    display_output = False\n",
    "    scom_dir = 'H:\\Profiles_Do_Not_Delete\\campus\\Desktop\\SoLa Kit\\scom.exe'\n",
    "    num_commands = 0\n",
    "    \n",
    "    def __init__(self,port,verbose,src_addr,dst_addr,object_type,object_id,property_id,data_format):\n",
    "        self.port = port\n",
    "        self.verbose = verbose\n",
    "        self.src_addr = src_addr\n",
    "        self.dst_addr = dst_addr\n",
    "        self.object_type = object_type\n",
    "        self.object_id = object_id\n",
    "        self.property_id = property_id\n",
    "        self.data_format = data_format\n",
    "        self.description = 'No Description'\n",
    "        ScomCommand.num_commands += 1\n",
    "    \n",
    "    @property\n",
    "    def description(self):\n",
    "        return self.description\n",
    "    \n",
    "    @description.setter\n",
    "    def description(self,description):\n",
    "        self.description = description\n",
    "        \n",
    "    def write_cmd(self,value):\n",
    "        write_cmd = (' --port={} --verbose={} write_property src_addr={} dst_addr={} object_type={} '\n",
    "                     'objective_id={} property_id={} format={} value={}'.\n",
    "                     format(self.port, self.verbose, self.src_addr, self.dst_addr, self.object_type\n",
    "                           , self.object_id, self.property_id, self.data_format, value))\n",
    "        return write_cmd\n",
    "    \n",
    "    def read_cmd(self):\n",
    "        read_cmd = (' --port={} --verbose={} read_property src_addr={} dst_addr={} object_type={} '\n",
    "                    'object_id={} property_id={} format={}'.\n",
    "                    format(self.port, self.verbose, self.src_addr, self.dst_addr, self.object_type\n",
    "                           , self.object_id, self.property_id, self.data_format))\n",
    "        return read_cmd\n",
    "    \n",
    "    def read(self):\n",
    "        read_cmd = self.read_cmd()\n",
    "        scom_output = subprocess.Popen(ScomCommand.scom_dir + read_cmd, stdout=subprocess.PIPE, stderr=subprocess.PIPE)\n",
    "        str_output = scom_output.stdout.readlines()\n",
    "        if ScomCommand.display_output:\n",
    "            for line in str_output:\n",
    "                print line\n",
    "        if str_output[-7]=='response:\\r\\n':\n",
    "            raw_data = str_output[-1]\n",
    "            raw_data = raw_data[5:]\n",
    "            try:\n",
    "                data = int(raw_data)\n",
    "            except:\n",
    "                data = raw_data\n",
    "            return data\n",
    "        else:\n",
    "            print 'Fetching Info Failure'\n",
    "            \n",
    "    def write(self,value):\n",
    "        write_cmd = self.write_cmd(value)\n",
    "        scom_output = subprocess.Popen(ScomCommand.scom_dir + write_cmd, stdout=subprocess.PIPE, stderr=subprocess.PIPE)\n",
    "        str_output = scom_output.stdout.readlines()\n",
    "        if ScomCommand.display_output:\n",
    "            for line in str_output:\n",
    "                print line\n",
    "        if str_output[-5]!='debug: rx bytes:\\r\\n':\n",
    "            print 'Sending Command Failure'"
   ]
  },
  {
   "cell_type": "code",
   "execution_count": 1,
   "metadata": {
    "collapsed": false
   },
   "outputs": [
    {
     "ename": "NameError",
     "evalue": "name 'ScomCommand' is not defined",
     "output_type": "error",
     "traceback": [
      "\u001b[0;31m---------------------------------------------------------------------------\u001b[0m",
      "\u001b[0;31mNameError\u001b[0m                                 Traceback (most recent call last)",
      "\u001b[0;32m<ipython-input-1-951ae50539b3>\u001b[0m in \u001b[0;36m<module>\u001b[0;34m()\u001b[0m\n\u001b[0;32m----> 1\u001b[0;31m \u001b[0mget_rcc_time\u001b[0m \u001b[1;33m=\u001b[0m \u001b[0mScomCommand\u001b[0m\u001b[1;33m(\u001b[0m\u001b[0mport_name\u001b[0m\u001b[1;33m,\u001b[0m\u001b[0mverbose_num\u001b[0m\u001b[1;33m,\u001b[0m\u001b[1;36m1\u001b[0m\u001b[1;33m,\u001b[0m\u001b[1;36m501\u001b[0m\u001b[1;33m,\u001b[0m\u001b[1;36m2\u001b[0m\u001b[1;33m,\u001b[0m\u001b[1;36m5002\u001b[0m\u001b[1;33m,\u001b[0m\u001b[1;36m5\u001b[0m\u001b[1;33m,\u001b[0m\u001b[1;34m'INT32'\u001b[0m\u001b[1;33m)\u001b[0m\u001b[1;33m\u001b[0m\u001b[0m\n\u001b[0m",
      "\u001b[0;31mNameError\u001b[0m: name 'ScomCommand' is not defined"
     ]
    }
   ],
   "source": [
    "get_rcc_time = ScomCommand(port_name,verbose_num,1,501,2,5002,5,'INT32')"
   ]
  },
  {
   "cell_type": "code",
   "execution_count": null,
   "metadata": {
    "collapsed": true
   },
   "outputs": [],
   "source": [
    "# The functions below are for reading information from the system and \n",
    "# perform scom command to read system info and get data\n",
    "#------------------------------------------------------------------------------\n",
    "def read_info(cmd):\n",
    "    py2output = subprocess.Popen(dir_scom + cmd, stdout=subprocess.PIPE, stderr=subprocess.PIPE)\n",
    "    str_output = py2output.stdout.readlines()\n",
    "    if display_output:\n",
    "        for line in str_output:\n",
    "            print line\n",
    "    if str_output[-7]=='response:\\r\\n':\n",
    "        raw_data = str_output[-1]\n",
    "        raw_data = raw_data[5:]\n",
    "        try:\n",
    "            data = int(raw_data)\n",
    "        except ValueError:\n",
    "            data = raw_data\n",
    "        return data\n",
    "    else:\n",
    "        print 'Fetching Info Failure'\n",
    "        \n",
    "# perform scom command to send system command\n",
    "def send_command(cmd):\n",
    "    py2output = subprocess.Popen(dir_scom + cmd, stdout=subprocess.PIPE, stderr=subprocess.PIPE)\n",
    "    str_output = py2output.stdout.readlines()\n",
    "    if display_output:\n",
    "        for line in str_output:\n",
    "            print line\n",
    "    if str_output[-5]!='debug: rx bytes:\\r\\n':\n",
    "        print 'Sending Command Failure'\n",
    "        "
   ]
  },
  {
   "cell_type": "markdown",
   "metadata": {},
   "source": [
    "## 3. Set and open serial port"
   ]
  },
  {
   "cell_type": "markdown",
   "metadata": {},
   "source": [
    "### 3.1 Check which port is used"
   ]
  },
  {
   "cell_type": "code",
   "execution_count": null,
   "metadata": {
    "collapsed": false,
    "scrolled": false
   },
   "outputs": [],
   "source": [
    "# display ports in use by executing shell commands\n",
    "if chech_port:\n",
    "    py2output = subprocess.Popen(['mode'], shell=True, stdout=subprocess.PIPE, stderr=subprocess.PIPE)\n",
    "    for line in py2output.stdout.readlines():\n",
    "        print line\n",
    "    retval = py2output.wait()"
   ]
  },
  {
   "cell_type": "markdown",
   "metadata": {},
   "source": [
    "### 3.2 Set port number and open it "
   ]
  },
  {
   "cell_type": "code",
   "execution_count": null,
   "metadata": {
    "collapsed": false
   },
   "outputs": [],
   "source": [
    "# open serial port\n",
    "if open_port:\n",
    "    ser = serial.Serial('COM3', baudrate=38400)\n",
    "    print(ser.name)         # check which port was really used"
   ]
  },
  {
   "cell_type": "markdown",
   "metadata": {},
   "source": [
    "### 3.3 Test serial port connection and scom"
   ]
  },
  {
   "cell_type": "code",
   "execution_count": null,
   "metadata": {
    "collapsed": false,
    "scrolled": false
   },
   "outputs": [],
   "source": [
    "# test if scom protocol is working with current serial port\n",
    "if test_comm:\n",
    "    py2output = subprocess.Popen(dir_scom + 'test', stdout=subprocess.PIPE, stderr=subprocess.PIPE)\n",
    "    for line in py2output.stdout.readlines():\n",
    "        print line\n",
    "    retval = py2output.wait()"
   ]
  },
  {
   "cell_type": "markdown",
   "metadata": {},
   "source": [
    "### 4 System Initialization"
   ]
  },
  {
   "cell_type": "markdown",
   "metadata": {},
   "source": [
    "### 4.1. Xtender"
   ]
  },
  {
   "cell_type": "code",
   "execution_count": null,
   "metadata": {
    "collapsed": false
   },
   "outputs": [],
   "source": [
    "if xtender_open:\n",
    "    # Xtender on\n",
    "    cmd = '--verbose=3 write_property src_addr=1 dst_addr=101 object_type=2 object_id=1415 property_id=5 format=INT32 value=1'\n",
    "    send_command(cmd)\n",
    "elif xtender_close:\n",
    "    # Xtender off\n",
    "    cmd = '--verbose=3 write_property src_addr=1 dst_addr=101 object_type=2 object_id=1399 property_id=5 format=INT32 value=0'\n",
    "    send_command(cmd)"
   ]
  },
  {
   "cell_type": "markdown",
   "metadata": {},
   "source": [
    "### 4.2. RCC"
   ]
  },
  {
   "cell_type": "code",
   "execution_count": null,
   "metadata": {
    "collapsed": false,
    "scrolled": false
   },
   "outputs": [],
   "source": [
    "# Get Xtender Time and Date & Synchronise RCC(System) Time and PC Time\n",
    "# When a PC is connected to Xcom-232i via serial port, the connected PC is recognised\n",
    "# by the Xtender as an RCC. For such reason, changing the RCC time according to current\n",
    "# time on the PC can be achieved.\n",
    "#----------------------------------------------------------------------------------------------\n",
    "# The time of the real system(RCC) is the value of seconds since 1/1/1970 00:00:00\n",
    "reference_datetime = datetime(year=1970,month=1,day=1,hour=0,minute=0,second=0)\n",
    "#----------------------------------------------------------------------------------------------\n",
    "# Define functions to get and set time\n",
    "def get_system_time():\n",
    "    cmd = '--verbose=3 read_property src_addr=1 dst_addr=501 object_type=2 object_id=5002 property_id=5 format=INT32'\n",
    "    time_delta_second = read_info(cmd)\n",
    "    system_datetime = reference_datetime + timedelta(seconds=time_delta_second)\n",
    "    return system_datetime\n",
    "def synchronise_time():\n",
    "    current_datetime = datetime.now()\n",
    "    system_datetime = get_system_time()\n",
    "    target_time_delta_second = round((current_datetime - reference_datetime).total_seconds())\n",
    "    cmd = '--verbose=3 write_property src_addr=1 dst_addr=501 object_type=2 object_id=5002 property_id=5 format=INT32 value=' + str(target_time_delta_second)\n",
    "    time_delta_second = send_command(cmd)\n",
    "    system_datetime = get_system_time()\n",
    "    return system_datetime\n",
    "#-----------------------------------------------------------------------------------------------\n",
    "if rcc_init:\n",
    "    start_time = time.time()\n",
    "    # Get current date and time from PC\n",
    "    current_datetime = datetime.now()\n",
    "    #current_year = current_datetime.year\n",
    "    #current_month = current_datetime.month\n",
    "    #current_mday = current_datetime.day\n",
    "    #current_hour = current_datetime.hour\n",
    "    #current_min = current_datetime.minute\n",
    "    #current_sec = current_datetime.second\n",
    "    print 'Local PC datetime is: ' + str(current_datetime)\n",
    "    # Get current date and time from system(RCC) in seconds (from reference datetime)\n",
    "    system_datetime = get_system_time()\n",
    "    print 'Current system datetime is: ' + str(system_datetime)\n",
    "    print 'Datetime synchronisation ...'\n",
    "    current_system_datetime = synchronise_time()\n",
    "    print 'Current system datetime is: ' + str(current_system_datetime)\n",
    "    elapsed_time = time.time() - start_time\n",
    "    print 'RCC datetime synchronisation finished, took ' + str(elapsed_time) + ' seconds'"
   ]
  },
  {
   "cell_type": "markdown",
   "metadata": {},
   "source": [
    "### 4.3. BSP"
   ]
  },
  {
   "cell_type": "code",
   "execution_count": null,
   "metadata": {
    "collapsed": true
   },
   "outputs": [],
   "source": [
    "# The recommended operation temperature range for lead acid batteries is 10°C and 35°C (best 20°C +/- 5k).\n",
    "# Higher temperature will seriously reduce service lifr. Lower temperature reduces the available capacity.\n",
    "# The absolute maximum temperature is 55°C and should exceed 45°C in service. Refer to the following link for\n",
    "# further information.\n",
    "# http://docs-europe.electrocomponents.com/webdocs/04a1/0900766b804a179a.pdf\n",
    "#--------------------------------------------------------------------------------------------------------------------"
   ]
  },
  {
   "cell_type": "code",
   "execution_count": null,
   "metadata": {
    "collapsed": false
   },
   "outputs": [],
   "source": [
    "# BSP ininitial setting for two Sonnenschein-S12/41 A batteries in series\n",
    "# Please refer to the following links for futher infotmation about the battery \n",
    "# used in the syetm.\n",
    "# http://uk.rs-online.com/web/p/lead-acid-rechargeable-batteries/6521446/\n",
    "# http://docs-europe.electrocomponents.com/webdocs/04a1/0900766b804a179a.pdf\n",
    "# http://www.produktinfo.conrad.com/datenblaetter/250000-274999/251241-da-01-de-AKKU_BLEI_41AH_SOLAR_DRY_S12_41A.pdf\n",
    "#------------------------------------------------------------------------------------------------------------------------\n",
    "# Destination address for BSP is 601\n",
    "# Setting list consits of four parameters, i.e., dst_addr, object_id, format, and value\n",
    "setting_list = []\n",
    "#---------------------------------------------------------\n",
    "# 1. Voltage of the DC system (V) --- 6057\n",
    "# Only one bit \n",
    "# 1: Automatic\n",
    "# 2: 12 V\n",
    "# 4: 24 V\n",
    "# 8: 48 V\n",
    "# Note: In the technical specification of Xtender serial\n",
    "# protocol (V1.6.20), 6057 should be of the format 'LONG ENUM',\n",
    "# however, it is not working with the scom. So 'INT32' was tested\n",
    "# and used here\n",
    "setting_list.append([601,6057,'INT32',4])\n",
    "#----------------------------------------------------------\n",
    "# 2. Nomonal capacity (Ah@C20) --- 6001\n",
    "setting_list.append([601,6001,'FLOAT',38])\n",
    "#----------------------------------------------------------\n",
    "# 3. Nominal discharge duration (C-rating) --- 6002\n",
    "setting_list.append([601,6002,'FLOAT',20])\n",
    "#----------------------------------------------------------\n",
    "# 4. Nominal shunt current (A) --- 6017\n",
    "setting_list.append([601,6017,'FLOAT',500])\n",
    "#-----------------------------------------------------------\n",
    "# 5. Nominal shunt voltage (mV) --- 6018\n",
    "setting_list.append([601,6018,'FLOAT',50])\n",
    "#-----------------------------------------------------------\n",
    "# 6. Use C20(aka C/20) as reference value (1 for yes, 0 for no) --- 6049\n",
    "setting_list.append([601,6049,'BOOL',1])\n",
    "#-----------------------------------------------------------\n",
    "# 7. Battery current limitation activation --- 6058\n",
    "# boolean format: 1 for yes, 0 for no\n",
    "setting_list.append([601,6058,'BOOL',1])\n",
    "#-----------------------------------------------------------\n",
    "# 8. Max battery charge current --- 6059\n",
    "# For lead acid battery, the charging current should be between 10 and 30 percent of the rated capacity. \n",
    "# A 10Ah battery at 30 percent charges at about 3A; the percentage can be lower. An 80Ah starter battery\n",
    "# may charge at 8A. (A 10 percent charge rate is equal to 0.1C.)\n",
    "# For further information please refer to the link below.\n",
    "# http://batteryuniversity.com/learn/article/charging_with_a_power_supply\n",
    "# In our system, the capacity at C20 is 38 and 30% of it is 11.4 A. So we\n",
    "# set our limitation value to 10A\n",
    "setting_list.append([601,6059,'FLOAT',10])\n",
    "#-----------------------------------------------------------\n",
    "# Start initialization loop if enabled\n",
    "if bsp_init:\n",
    "    start_time = time.time()\n",
    "    for i in range(len(setting_list)):\n",
    "        tmp_CMD = ('--verbose=3 write_property src_addr=1 dst_addr=' + str(setting_list[i][0]) + \n",
    "                   ' object_type=2 object_id=' + str(setting_list[i][1]) + ' property_id=5 format=' + \n",
    "                   str(setting_list[i][2]) + ' value=' + str(setting_list[i][3]))\n",
    "        send_command(tmp_CMD)\n",
    "    elapsed_time = time.time() - start_time\n",
    "    print 'BSP initializaiton finished, took ' + str(elapsed_time) + ' seconds'"
   ]
  },
  {
   "cell_type": "code",
   "execution_count": null,
   "metadata": {
    "collapsed": false,
    "scrolled": false
   },
   "outputs": [],
   "source": [
    "#py2output = subprocess.Popen(dir_scom + '--port=COM1 --verbose=3 read_property src_addr=1 dst_addr=101 object_type=2 object_id=1526 property_id=5 format=INT32', stdout=subprocess.PIPE, stderr=subprocess.PIPE)\n",
    "#str_output = py2output.stdout.readlines()\n",
    "#response_output = str_output[-7]\n",
    "#print response_output=='response:\\r\\n'\n",
    "#raw_data = str_output[-1]\n",
    "#data = int(filter(str.isdigit,raw_data))\n",
    "#print data\n",
    "#cmd = '--verbose=3 write_property src_addr=1 dst_addr=601 object_type=2 object_id=6057 property_id=5 format=FLOAT value=34'\n",
    "#send_command(cmd)\n",
    "\n",
    "cmd = '--verbose=3 read_property src_addr=1 dst_addr=101 object_type=2 object_id=1108 property_id=5 format=FLOAT'\n",
    "data = read_info(cmd)\n",
    "print data\n",
    "\n",
    "cmd = '--verbose=3 read_property src_addr=1 dst_addr=101 object_type=2 object_id=1109 property_id=5 format=FLOAT'\n",
    "data = read_info(cmd)\n",
    "print data"
   ]
  }
 ],
 "metadata": {
  "anaconda-cloud": {},
  "kernelspec": {
   "display_name": "Python 2",
   "language": "python",
   "name": "python2"
  },
  "language_info": {
   "codemirror_mode": {
    "name": "ipython",
    "version": 2
   },
   "file_extension": ".py",
   "mimetype": "text/x-python",
   "name": "python",
   "nbconvert_exporter": "python",
   "pygments_lexer": "ipython2",
   "version": "2.7.13"
  }
 },
 "nbformat": 4,
 "nbformat_minor": 1
}
