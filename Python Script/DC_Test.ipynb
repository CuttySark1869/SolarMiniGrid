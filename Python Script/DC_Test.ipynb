{
 "cells": [
  {
   "cell_type": "markdown",
   "metadata": {},
   "source": [
    "## 1. Import packages"
   ]
  },
  {
   "cell_type": "code",
   "execution_count": 11,
   "metadata": {
    "collapsed": true
   },
   "outputs": [],
   "source": [
    "import serial\n",
    "import subprocess\n",
    "#from subprocess import Popen, PIPE"
   ]
  },
  {
   "cell_type": "markdown",
   "metadata": {},
   "source": [
    "## 2. Set and open serial port"
   ]
  },
  {
   "cell_type": "markdown",
   "metadata": {},
   "source": [
    "### 2.1 Check which port is used"
   ]
  },
  {
   "cell_type": "code",
   "execution_count": 19,
   "metadata": {
    "collapsed": false,
    "scrolled": true
   },
   "outputs": [
    {
     "name": "stdout",
     "output_type": "stream",
     "text": [
      "/dev/tty.usbserial-FTE328CJ\n",
      "\n"
     ]
    }
   ],
   "source": [
    "py2output = subprocess.Popen(['ls /dev/tty.usb*'], shell=True, stdout=subprocess.PIPE, stderr=subprocess.PIPE)\n",
    "for line in py2output.stdout.readlines():\n",
    "    print line\n",
    "retval = py2output.wait()"
   ]
  },
  {
   "cell_type": "markdown",
   "metadata": {},
   "source": [
    "### 2.2 Set port number and open it "
   ]
  },
  {
   "cell_type": "code",
   "execution_count": 20,
   "metadata": {
    "collapsed": false
   },
   "outputs": [
    {
     "name": "stdout",
     "output_type": "stream",
     "text": [
      "/dev/tty.usbserial-FTE328CJ\n",
      "\n",
      "\n",
      "debug: verbose_level=3\n",
      "\n",
      "debug: port=COM3\n",
      "\n"
     ]
    },
    {
     "data": {
      "text/plain": [
       "True"
      ]
     },
     "execution_count": 20,
     "metadata": {},
     "output_type": "execute_result"
    }
   ],
   "source": [
    "# open serial port\n",
    "ser = serial.Serial('/dev/tty.usbserial-FTE328CJ', baudrate=38400)\n",
    "print(ser.name)         # check which port was really used\n",
    "\n",
    "py2output = subprocess.Popen(['wine /Users/Allen/Documents/Uni/Lab/SoLa_Kit/Coms_Kit/scom.exe --port=COM3 --verbose=3 read_property src_addr=1 dst_addr=101 object_type=1 object_id=3000 property_id=1 format=FLOAT'], shell=True, stdout=subprocess.PIPE, stderr=subprocess.PIPE)\n",
    "for line in py2output.stdout.readlines():\n",
    "    print line\n",
    "retval = py2output.wait()\n",
    "ser.isOpen()"
   ]
  },
  {
   "cell_type": "markdown",
   "metadata": {},
   "source": [
    "### 2.3 Test serial port connection and scom"
   ]
  },
  {
   "cell_type": "code",
   "execution_count": 31,
   "metadata": {
    "collapsed": false,
    "scrolled": true
   },
   "outputs": [
    {
     "name": "stdout",
     "output_type": "stream",
     "text": [
      "\r\n",
      "\n",
      "\r\n",
      "\n",
      "scan port: COM1 COM2 COM3 COM4 COM5 COM6 COM7 COM8 COM9 COM10 COM11 COM12 COM13 COM14 COM15 COM16 COM17 COM18 COM19 COM20 \n"
     ]
    },
    {
     "data": {
      "text/plain": [
       "True"
      ]
     },
     "execution_count": 31,
     "metadata": {},
     "output_type": "execute_result"
    }
   ],
   "source": [
    "py2output = subprocess.Popen(['wine /Users/Allen/Documents/Uni/Lab/SoLa_Kit/Coms_Kit/scom.exe test'], shell=True, stdout=subprocess.PIPE, stderr=subprocess.PIPE)\n",
    "for line in py2output.stdout.readlines():\n",
    "    print line\n",
    "retval = py2output.wait()\n",
    "ser.isOpen()"
   ]
  },
  {
   "cell_type": "code",
   "execution_count": 5,
   "metadata": {
    "collapsed": false
   },
   "outputs": [
    {
     "name": "stdout",
     "output_type": "stream",
     "text": [
      "\r\n",
      "\n",
      "debug: verbose_level=3\r\n",
      "\n",
      "debug: port=COM3\r\n",
      "\n"
     ]
    }
   ],
   "source": [
    "py2output = subprocess.Popen(['wine /Users/Allen/Documents/Uni/Lab/SoLa_Kit/Coms_Kit/scom.exe --port=COM3 --verbose=3 read_property src_addr=1 dst_addr=101 object_type=1 object_id=3000 property_id=1 format=FLOAT'], shell=True, stdout=subprocess.PIPE, stderr=subprocess.PIPE)\n",
    "for line in py2output.stdout.readlines():\n",
    "    print line\n",
    "retval = py2output.wait()"
   ]
  }
 ],
 "metadata": {
  "anaconda-cloud": {},
  "kernelspec": {
   "display_name": "Python [conda root]",
   "language": "python",
   "name": "conda-root-py"
  },
  "language_info": {
   "codemirror_mode": {
    "name": "ipython",
    "version": 2
   },
   "file_extension": ".py",
   "mimetype": "text/x-python",
   "name": "python",
   "nbconvert_exporter": "python",
   "pygments_lexer": "ipython2",
   "version": "2.7.13"
  }
 },
 "nbformat": 4,
 "nbformat_minor": 1
}
