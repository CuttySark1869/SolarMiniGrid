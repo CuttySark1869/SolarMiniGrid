{
 "cells": [
  {
   "cell_type": "markdown",
   "metadata": {},
   "source": [
    "**Description**: the following script is dedicated to communicate and control (retrieve info and send commands) Xtender via scom\n",
    "\n",
    "**Developing Operating System**: Windows 7 Enterprise SP1\n",
    "\n",
    "**Developing Environment**: Anaconda Python 2.7.13\n",
    "\n",
    "**First created**: 10/03/2017 (10th March 2017)\n",
    "\n",
    "**Last modified**: 29/04/2017\n",
    "\n",
    "**Author**: Minghao Xu\n",
    "\n",
    "**Scom Version**: 1.6.26\n",
    "\n",
    "**Xtender Version**: 1.6.22\n",
    "\n",
    "**BSP Version**: 1.6.14\n",
    "\n",
    "**Script Version**: 0.5"
   ]
  },
  {
   "cell_type": "markdown",
   "metadata": {},
   "source": [
    "## 1. Import packages"
   ]
  },
  {
   "cell_type": "code",
   "execution_count": 1,
   "metadata": {
    "collapsed": true
   },
   "outputs": [],
   "source": [
    "import serial\n",
    "import subprocess\n",
    "import os\n",
    "import numpy as np\n",
    "import pandas as pd\n",
    "import time\n",
    "from datetime import datetime\n",
    "from datetime import timedelta"
   ]
  },
  {
   "cell_type": "markdown",
   "metadata": {},
   "source": [
    "## 2. Set pre-defined paramets and functions"
   ]
  },
  {
   "cell_type": "markdown",
   "metadata": {},
   "source": [
    "### 2.1 Pre-define Parameters and Paths"
   ]
  },
  {
   "cell_type": "code",
   "execution_count": 2,
   "metadata": {
    "collapsed": false
   },
   "outputs": [],
   "source": [
    "# paths\n",
    "cwd  = os.getcwd()\n",
    "dir_scom = 'H:\\\\Profiles_Do_Not_Delete\\\\campus\\\\Desktop\\\\SoLa Kit\\\\scom.exe '\n",
    "# port\n",
    "port_name = 'COM1'\n",
    "# verbose\n",
    "verbose_num = 3\n",
    "# src addr\n",
    "src_addr = 1\n",
    "# Xcom-232i addr (alias for RCC)\n",
    "RCC_addr = 501\n",
    "# BSP addr\n",
    "BSP_addr = 601\n",
    "# Xtender addr\n",
    "XTM_addr = 101\n",
    "# object_type\n",
    "object_type = 2\n",
    "# property_id\n",
    "property_id = 5\n",
    "# whether to display full info of fetched info\n",
    "display_output = False\n",
    "# whether to chech port\n",
    "chech_port = True\n",
    "# whether to test communication protocol with serial port\n",
    "test_comm = True\n",
    "# whether to open a serial port\n",
    "open_port = False\n",
    "# open Xtender\n",
    "xtender_open = True\n",
    "# close Xtender\n",
    "xtender_close = False\n",
    "# Xtender initialization\n",
    "extender_init = True\n",
    "# RCC initialization\n",
    "rcc_init = True\n",
    "# BSP initialization\n",
    "bsp_init = True"
   ]
  },
  {
   "cell_type": "markdown",
   "metadata": {},
   "source": [
    "### 2.2 Import Register Dict"
   ]
  },
  {
   "cell_type": "code",
   "execution_count": 3,
   "metadata": {
    "collapsed": false
   },
   "outputs": [],
   "source": [
    "dir_dict = 'H:\\\\Profiles_Do_Not_Delete\\\\campus\\\\Desktop\\\\SoLa Kit\\\\ParameterFiles\\\\'\n",
    "file_list = ['BSP_list_new','RCC_list_new']\n",
    "# BSP\n",
    "tmp_name = dir_dict + file_list[0] + '.csv'\n",
    "BSP_list = pd.read_csv(tmp_name,header=0)\n",
    "# RCC\n",
    "tmp_name = dir_dict + file_list[1] + '.csv'\n",
    "RCC_list = pd.read_csv(tmp_name,header=0)"
   ]
  },
  {
   "cell_type": "markdown",
   "metadata": {},
   "source": [
    "### 2.3 Pre-define Command Class"
   ]
  },
  {
   "cell_type": "code",
   "execution_count": 4,
   "metadata": {
    "collapsed": true
   },
   "outputs": [],
   "source": [
    "# The class below are created for storing parameters related to certain function.\n",
    "# The class also includes functions to create commands for reading or writing data\n",
    "# with Studer device.\n",
    "#------------------------------------------------------------------------------------------------------\n",
    "class ScomCommand:\n",
    "    # count the number of parameters used to generate command\n",
    "    display_output = False\n",
    "    num_commands = 0\n",
    "    \n",
    "    def __init__(self,port,verbose,src_addr,dst_addr,object_type,object_id,property_id,data_format):\n",
    "        self.port = port\n",
    "        self.verbose = verbose\n",
    "        self.src_addr = src_addr\n",
    "        self.dst_addr = dst_addr\n",
    "        self.object_type = object_type\n",
    "        self.object_id = object_id\n",
    "        self.property_id = property_id\n",
    "        self.data_format = data_format\n",
    "        self.description = 'No Description'\n",
    "        ScomCommand.num_commands += 1\n",
    "    \n",
    "    @property\n",
    "    def description(self):\n",
    "        return self.description\n",
    "    \n",
    "    @description.setter\n",
    "    def description(self,description):\n",
    "        self.description = description\n",
    "        \n",
    "    def write_cmd(self,value):\n",
    "        write_cmd = ('--port={} --verbose={} write_property src_addr={} dst_addr={} object_type={} '\n",
    "                     'object_id={} property_id={} format={} value={}'.\n",
    "                     format(self.port, self.verbose, self.src_addr, self.dst_addr, self.object_type\n",
    "                           , self.object_id, self.property_id, self.data_format, value))\n",
    "        return write_cmd\n",
    "    \n",
    "    def read_cmd(self):\n",
    "        read_cmd = ('--port={} --verbose={} read_property src_addr={} dst_addr={} object_type={} '\n",
    "                    'object_id={} property_id={} format={}'.\n",
    "                    format(self.port, self.verbose, self.src_addr, self.dst_addr, self.object_type\n",
    "                           , self.object_id, self.property_id, self.data_format))\n",
    "        return read_cmd\n",
    "    \n",
    "    def read(self):\n",
    "        read_cmd = self.read_cmd()\n",
    "        scom_output = subprocess.Popen(dir_scom + read_cmd, stdout=subprocess.PIPE, stderr=subprocess.PIPE)\n",
    "        str_output = scom_output.stdout.readlines()\n",
    "        if ScomCommand.display_output:\n",
    "            for line in str_output:\n",
    "                print line\n",
    "        if str_output[-7]=='response:\\r\\n':\n",
    "            raw_data = str_output[-1]\n",
    "            raw_data = raw_data[5:]\n",
    "            try:\n",
    "                data = int(raw_data)\n",
    "            except:\n",
    "                data = raw_data\n",
    "            return data\n",
    "        else:\n",
    "            print 'Fetching Info Failure'\n",
    "            \n",
    "    def write(self,value):\n",
    "        write_cmd = self.write_cmd(value)\n",
    "        scom_output = subprocess.Popen(dir_scom + write_cmd, stdout=subprocess.PIPE, stderr=subprocess.PIPE)\n",
    "        str_output = scom_output.stdout.readlines()\n",
    "        if ScomCommand.display_output:\n",
    "            for line in str_output:\n",
    "                print line\n",
    "        if str_output[-5]!='debug: rx bytes:\\r\\n':\n",
    "            print 'Sending Command Failure'"
   ]
  },
  {
   "cell_type": "markdown",
   "metadata": {},
   "source": [
    "### 2.4 Create Instances for Command Class"
   ]
  },
  {
   "cell_type": "code",
   "execution_count": 5,
   "metadata": {
    "collapsed": false,
    "scrolled": false
   },
   "outputs": [],
   "source": [
    "register_list = []\n",
    "# BSP\n",
    "for i in range(BSP_list.shape[0]):\n",
    "    tmp_object_id = BSP_list.iloc[i].property_id\n",
    "    tmp_data_format = BSP_list.iloc[i].format\n",
    "    if tmp_data_format=='LONG ENUM':\n",
    "        tmp_data_format = 'INT32'\n",
    "    tmp_description = BSP_list.iloc[i].description\n",
    "    tmp_class_name = 'r' + str(tmp_object_id)\n",
    "    register_list.append(tmp_class_name)\n",
    "    tmp_cmd = ('{variable_name} = ScomCommand(\\'{port_name}\\',{verbose_num},{src_addr},'\n",
    "               '{dst_addr},{object_type},{object_id},{property_id},\\'{data_format}\\')'.\n",
    "               format(variable_name=tmp_class_name,port_name=port_name,verbose_num=verbose_num,\n",
    "                     src_addr=src_addr,dst_addr=BSP_addr,object_type=object_type,\n",
    "                     object_id=tmp_object_id,property_id=property_id,data_format=tmp_data_format))\n",
    "    exec(tmp_cmd)\n",
    "    tmp_cmd = ('{variable_name}.description = \\'{description}\\''.format(\n",
    "                variable_name=tmp_class_name,description=tmp_description))\n",
    "    exec(tmp_cmd)\n",
    "########################################################################################################\n",
    "# RCC\n",
    "for i in range(RCC_list.shape[0]):\n",
    "    tmp_object_id = RCC_list.iloc[i].property_id\n",
    "    tmp_data_format = RCC_list.iloc[i].format\n",
    "    if tmp_data_format=='LONG ENUM':\n",
    "        tmp_data_format = 'INT32'\n",
    "    tmp_description = RCC_list.iloc[i].description\n",
    "    tmp_class_name = 'r' + str(tmp_object_id)\n",
    "    register_list.append(tmp_class_name)\n",
    "    tmp_cmd = ('{variable_name} = ScomCommand(\\'{port_name}\\',{verbose_num},{src_addr},'\n",
    "               '{dst_addr},{object_type},{object_id},{property_id},\\'{data_format}\\')'.\n",
    "               format(variable_name=tmp_class_name,port_name=port_name,verbose_num=verbose_num,\n",
    "                     src_addr=src_addr,dst_addr=RCC_addr,object_type=object_type,\n",
    "                     object_id=tmp_object_id,property_id=property_id,data_format=tmp_data_format))\n",
    "    exec(tmp_cmd)\n",
    "    tmp_cmd = ('{variable_name}.description = \\'{description}\\''.format(\n",
    "                variable_name=tmp_class_name,description=tmp_description))\n",
    "    exec(tmp_cmd)"
   ]
  },
  {
   "cell_type": "code",
   "execution_count": 6,
   "metadata": {
    "collapsed": false
   },
   "outputs": [
    {
     "data": {
      "text/plain": [
       "['r6000',\n",
       " 'r6057',\n",
       " 'r6001',\n",
       " 'r6002',\n",
       " 'r6017',\n",
       " 'r6018',\n",
       " 'r6003',\n",
       " 'r6004',\n",
       " 'r6005',\n",
       " 'r6016',\n",
       " 'r6031',\n",
       " 'r6055',\n",
       " 'r6056',\n",
       " 'r6042',\n",
       " 'r6024',\n",
       " 'r6025',\n",
       " 'r6026',\n",
       " 'r6048',\n",
       " 'r6044',\n",
       " 'r6058',\n",
       " 'r6059',\n",
       " 'r6019',\n",
       " 'r6020',\n",
       " 'r6021',\n",
       " 'r6022',\n",
       " 'r6023',\n",
       " 'r6049',\n",
       " 'r5000',\n",
       " 'r5036',\n",
       " 'r5038',\n",
       " 'r5039',\n",
       " 'r5040',\n",
       " 'r5002',\n",
       " 'r5012',\n",
       " 'r5019',\n",
       " 'r5057',\n",
       " 'r5101',\n",
       " 'r5059',\n",
       " 'r5109',\n",
       " 'r5120',\n",
       " 'r5076',\n",
       " 'r5077',\n",
       " 'r5078',\n",
       " 'r5079',\n",
       " 'r5080',\n",
       " 'r5081',\n",
       " 'r5082',\n",
       " 'r5083',\n",
       " 'r5013',\n",
       " 'r5041',\n",
       " 'r5068',\n",
       " 'r5070',\n",
       " 'r5032',\n",
       " 'r5069',\n",
       " 'r5030',\n",
       " 'r5049',\n",
       " 'r5015',\n",
       " 'r5016',\n",
       " 'r5097',\n",
       " 'r5098',\n",
       " 'r5050',\n",
       " 'r5017',\n",
       " 'r5018',\n",
       " 'r5033',\n",
       " 'r5034',\n",
       " 'r5045',\n",
       " 'r5051',\n",
       " 'r5052',\n",
       " 'r5053',\n",
       " 'r5054',\n",
       " 'r5055',\n",
       " 'r5084',\n",
       " 'r5085',\n",
       " 'r5086',\n",
       " 'r5087',\n",
       " 'r5088',\n",
       " 'r5114',\n",
       " 'r5115',\n",
       " 'r5116',\n",
       " 'r5117',\n",
       " 'r5118',\n",
       " 'r5063',\n",
       " 'r5064',\n",
       " 'r5065',\n",
       " 'r5066',\n",
       " 'r5067',\n",
       " 'r5047',\n",
       " 'r5061',\n",
       " 'r5042',\n",
       " 'r5043',\n",
       " 'r5044',\n",
       " 'r5007',\n",
       " 'r5093',\n",
       " 'r5009',\n",
       " 'r5026',\n",
       " 'r5021',\n",
       " 'r5006',\n",
       " 'r5073',\n",
       " 'r5010',\n",
       " 'r5011',\n",
       " 'r5027',\n",
       " 'r5031',\n",
       " 'r5056',\n",
       " 'r5071',\n",
       " 'r5121',\n",
       " 'r5090',\n",
       " 'r5091',\n",
       " 'r5092',\n",
       " 'r5062',\n",
       " 'r5094',\n",
       " 'r5105',\n",
       " 'r5119',\n",
       " 'r5095',\n",
       " 'r5096',\n",
       " 'r5103',\n",
       " 'r5104',\n",
       " 'r5035']"
      ]
     },
     "execution_count": 6,
     "metadata": {},
     "output_type": "execute_result"
    }
   ],
   "source": [
    "register_list"
   ]
  },
  {
   "cell_type": "code",
   "execution_count": 7,
   "metadata": {
    "collapsed": true
   },
   "outputs": [],
   "source": [
    "# The functions below are for reading information from the system and \n",
    "# perform scom command to read system info and get data\n",
    "#####################################################################################################\n",
    "def read_info(cmd):\n",
    "    py2output = subprocess.Popen(dir_scom + cmd, stdout=subprocess.PIPE, stderr=subprocess.PIPE)\n",
    "    str_output = py2output.stdout.readlines()\n",
    "    if display_output:\n",
    "        for line in str_output:\n",
    "            print line\n",
    "    if str_output[-7]=='response:\\r\\n':\n",
    "        raw_data = str_output[-1]\n",
    "        raw_data = raw_data[5:]\n",
    "        try:\n",
    "            data = int(raw_data)\n",
    "        except ValueError:\n",
    "            data = raw_data\n",
    "        return data\n",
    "    else:\n",
    "        print 'Fetching Info Failure'\n",
    "        \n",
    "# perform scom command to send system command\n",
    "def send_command(cmd):\n",
    "    py2output = subprocess.Popen(dir_scom + cmd, stdout=subprocess.PIPE, stderr=subprocess.PIPE)\n",
    "    str_output = py2output.stdout.readlines()\n",
    "    if display_output:\n",
    "        for line in str_output:\n",
    "            print line\n",
    "    if str_output[-5]!='debug: rx bytes:\\r\\n':\n",
    "        print 'Sending Command Failure'"
   ]
  },
  {
   "cell_type": "markdown",
   "metadata": {},
   "source": [
    "## 3. Set and open serial port"
   ]
  },
  {
   "cell_type": "markdown",
   "metadata": {},
   "source": [
    "### 3.1 Check which port is used"
   ]
  },
  {
   "cell_type": "code",
   "execution_count": 8,
   "metadata": {
    "collapsed": false,
    "scrolled": false
   },
   "outputs": [
    {
     "name": "stdout",
     "output_type": "stream",
     "text": [
      "\r\n",
      "\n",
      "Status for device COM3:\r\n",
      "\n",
      "-----------------------\r\n",
      "\n",
      "    Baud:            38400\r\n",
      "\n",
      "    Parity:          Even\r\n",
      "\n",
      "    Data Bits:       8\r\n",
      "\n",
      "    Stop Bits:       1\r\n",
      "\n",
      "    Timeout:         ON\r\n",
      "\n",
      "    XON/XOFF:        OFF\r\n",
      "\n",
      "    CTS handshaking: OFF\r\n",
      "\n",
      "    DSR handshaking: OFF\r\n",
      "\n",
      "    DSR sensitivity: OFF\r\n",
      "\n",
      "    DTR circuit:     ON\r\n",
      "\n",
      "    RTS circuit:     ON\r\n",
      "\n",
      "\r\n",
      "\n",
      "\r\n",
      "\n",
      "Status for device COM1:\r\n",
      "\n",
      "-----------------------\r\n",
      "\n",
      "    Baud:            38400\r\n",
      "\n",
      "    Parity:          Even\r\n",
      "\n",
      "    Data Bits:       8\r\n",
      "\n",
      "    Stop Bits:       1\r\n",
      "\n",
      "    Timeout:         ON\r\n",
      "\n",
      "    XON/XOFF:        OFF\r\n",
      "\n",
      "    CTS handshaking: OFF\r\n",
      "\n",
      "    DSR handshaking: OFF\r\n",
      "\n",
      "    DSR sensitivity: OFF\r\n",
      "\n",
      "    DTR circuit:     ON\r\n",
      "\n",
      "    RTS circuit:     ON\r\n",
      "\n",
      "\r\n",
      "\n",
      "\r\n",
      "\n",
      "Status for device CON:\r\n",
      "\n",
      "----------------------\r\n",
      "\n",
      "    Lines:          300\r\n",
      "\n",
      "    Columns:        80\r\n",
      "\n",
      "    Keyboard rate:  31\r\n",
      "\n",
      "    Keyboard delay: 1\r\n",
      "\n",
      "    Code page:      1252\r\n",
      "\n",
      "\r\n",
      "\n"
     ]
    }
   ],
   "source": [
    "# display ports in use by executing shell commands\n",
    "if chech_port:\n",
    "    py2output = subprocess.Popen(['mode'], shell=True, stdout=subprocess.PIPE, stderr=subprocess.PIPE)\n",
    "    for line in py2output.stdout.readlines():\n",
    "        print line\n",
    "    retval = py2output.wait()"
   ]
  },
  {
   "cell_type": "markdown",
   "metadata": {},
   "source": [
    "### 3.2 Set port number and open it "
   ]
  },
  {
   "cell_type": "code",
   "execution_count": 9,
   "metadata": {
    "collapsed": false
   },
   "outputs": [],
   "source": [
    "# open serial port\n",
    "if open_port:\n",
    "    ser = serial.Serial('COM3', baudrate=38400)\n",
    "    print(ser.name)         # check which port was really used"
   ]
  },
  {
   "cell_type": "markdown",
   "metadata": {},
   "source": [
    "### 3.3 Test serial port connection and scom"
   ]
  },
  {
   "cell_type": "code",
   "execution_count": 10,
   "metadata": {
    "collapsed": false,
    "scrolled": false
   },
   "outputs": [
    {
     "name": "stdout",
     "output_type": "stream",
     "text": [
      "\r\n",
      "\n",
      "\r\n",
      "\n",
      "scan port: COM1 \r\n",
      "\n",
      "COM1 opened with success\r\n",
      "\n",
      "  inverter addr_id=101 with v_bat=25.88 detected\r\n",
      "\n",
      "  no inverter addr_id=102 detected\r\n",
      "\n",
      "  no inverter addr_id=103 detected\r\n",
      "\n",
      "  no inverter addr_id=104 detected\r\n",
      "\n",
      "  no inverter addr_id=105 detected\r\n",
      "\n",
      "  no inverter addr_id=106 detected\r\n",
      "\n",
      "  no inverter addr_id=107 detected\r\n",
      "\n",
      "  no inverter addr_id=108 detected\r\n",
      "\n",
      "  no inverter addr_id=109 detected\r\n",
      "\n",
      "\r\n",
      "\n",
      "scan port: COM2 COM3 \r\n",
      "\n",
      "COM3 opened with success\r\n",
      "\n",
      "  port not working with scom protocol: RESPONSE_TIMEOUT (3)\r\n",
      "\n",
      "\r\n",
      "\n",
      "scan port: COM4 COM5 COM6 COM7 COM8 COM9 COM10 COM11 COM12 COM13 COM14 COM15 COM16 COM17 COM18 COM19 COM20 \n"
     ]
    }
   ],
   "source": [
    "# test if scom protocol is working with current serial port\n",
    "if test_comm:\n",
    "    py2output = subprocess.Popen(dir_scom + 'test', stdout=subprocess.PIPE, stderr=subprocess.PIPE)\n",
    "    for line in py2output.stdout.readlines():\n",
    "        print line\n",
    "    retval = py2output.wait()"
   ]
  },
  {
   "cell_type": "markdown",
   "metadata": {},
   "source": [
    "### 4 System Initialization"
   ]
  },
  {
   "cell_type": "markdown",
   "metadata": {},
   "source": [
    "### 4.1. Xtender"
   ]
  },
  {
   "cell_type": "code",
   "execution_count": 11,
   "metadata": {
    "collapsed": false
   },
   "outputs": [],
   "source": [
    "if xtender_open:\n",
    "    # Xtender on\n",
    "    cmd = '--port=COM1 --verbose=3 write_property src_addr=1 dst_addr=101 object_type=2 object_id=1415 property_id=5 format=INT32 value=1'\n",
    "    send_command(cmd)\n",
    "elif xtender_close:\n",
    "    # Xtender off\n",
    "    cmd = '--port=COM1 --verbose=3 write_property src_addr=1 dst_addr=101 object_type=2 object_id=1399 property_id=5 format=INT32 value=0'\n",
    "    send_command(cmd)"
   ]
  },
  {
   "cell_type": "markdown",
   "metadata": {},
   "source": [
    "### 4.2. RCC"
   ]
  },
  {
   "cell_type": "code",
   "execution_count": 12,
   "metadata": {
    "collapsed": false,
    "scrolled": true
   },
   "outputs": [
    {
     "name": "stdout",
     "output_type": "stream",
     "text": [
      "Local PC datetime is: 2017-04-29 17:12:41.831000\n",
      "Current system datetime is: 2017-04-29 17:12:46\n",
      "Datetime synchronisation ...\n",
      "Current system datetime is: 2017-04-29 17:12:42\n",
      "RCC datetime synchronisation finished, took 0.398000001907 seconds\n"
     ]
    }
   ],
   "source": [
    "# Get Xtender Time and Date & Synchronise RCC(System) Time and PC Time\n",
    "# When a PC is connected to Xcom-232i via serial port, the connected PC is recognised\n",
    "# by the Xtender as an RCC. For such reason, changing the RCC time according to current\n",
    "# time on the PC can be achieved.\n",
    "######################################################################################################################\n",
    "# The time of the real system(RCC) is the value of seconds since 1/1/1970 00:00:00\n",
    "reference_datetime = datetime(year=1970,month=1,day=1,hour=0,minute=0,second=0)\n",
    "######################################################################################################################\n",
    "# Define functions to get and set time\n",
    "def get_system_time():\n",
    "    time_delta_second = r5002.read()\n",
    "    system_datetime = reference_datetime + timedelta(seconds=time_delta_second)\n",
    "    return system_datetime\n",
    "def synchronise_time():\n",
    "    current_datetime = datetime.now()\n",
    "    system_datetime = get_system_time()\n",
    "    target_time_delta_second = round((current_datetime - reference_datetime).total_seconds())\n",
    "    time_delta_second = r5002.write(target_time_delta_second)\n",
    "    system_datetime = get_system_time()\n",
    "    return system_datetime\n",
    "######################################################################################################################\n",
    "if rcc_init:\n",
    "    start_time = time.time()\n",
    "    # Get current date and time from PC\n",
    "    current_datetime = datetime.now()\n",
    "    #current_year = current_datetime.year\n",
    "    #current_month = current_datetime.month\n",
    "    #current_mday = current_datetime.day\n",
    "    #current_hour = current_datetime.hour\n",
    "    #current_min = current_datetime.minute\n",
    "    #current_sec = current_datetime.second\n",
    "    print 'Local PC datetime is: ' + str(current_datetime)\n",
    "    # Get current date and time from system(RCC) in seconds (from reference datetime)\n",
    "    system_datetime = get_system_time()\n",
    "    print 'Current system datetime is: ' + str(system_datetime)\n",
    "    print 'Datetime synchronisation ...'\n",
    "    current_system_datetime = synchronise_time()\n",
    "    print 'Current system datetime is: ' + str(current_system_datetime)\n",
    "    elapsed_time = time.time() - start_time\n",
    "    print 'RCC datetime synchronisation finished, took ' + str(elapsed_time) + ' seconds'"
   ]
  },
  {
   "cell_type": "markdown",
   "metadata": {},
   "source": [
    "### 4.3. BSP"
   ]
  },
  {
   "cell_type": "code",
   "execution_count": null,
   "metadata": {
    "collapsed": true
   },
   "outputs": [],
   "source": [
    "# The recommended operation temperature range for lead acid batteries is 10°C and 35°C (best 20°C +/- 5k).\n",
    "# Higher temperature will seriously reduce service lifr. Lower temperature reduces the available capacity.\n",
    "# The absolute maximum temperature is 55°C and should exceed 45°C in service. Refer to the following link for\n",
    "# further information.\n",
    "# http://docs-europe.electrocomponents.com/webdocs/04a1/0900766b804a179a.pdf\n",
    "######################################################################################################################"
   ]
  },
  {
   "cell_type": "code",
   "execution_count": 14,
   "metadata": {
    "collapsed": false
   },
   "outputs": [
    {
     "name": "stdout",
     "output_type": "stream",
     "text": [
      "BSP initializaiton finished, took 1.45799994469 seconds\n"
     ]
    }
   ],
   "source": [
    "# BSP ininitial setting for two Sonnenschein-S12/41 A batteries in series\n",
    "# Please refer to the following links for futher infotmation about the battery \n",
    "# used in the syetm.\n",
    "# http://uk.rs-online.com/web/p/lead-acid-rechargeable-batteries/6521446/\n",
    "# http://docs-europe.electrocomponents.com/webdocs/04a1/0900766b804a179a.pdf\n",
    "# http://www.produktinfo.conrad.com/datenblaetter/250000-274999/251241-da-01-de-AKKU_BLEI_41AH_SOLAR_DRY_S12_41A.pdf\n",
    "######################################################################################################################\n",
    "# Start initialization loop if enabled\n",
    "if bsp_init:\n",
    "    start_time = time.time()\n",
    "    ######################################################################################################################\n",
    "    # 1. Voltage of the DC system (V) --- 6057\n",
    "    # Only one bit \n",
    "    # 1: Automatic\n",
    "    # 2: 12 V\n",
    "    # 4: 24 V\n",
    "    # 8: 48 V\n",
    "    # Note: In the technical specification of Xtender serial\n",
    "    # protocol (V1.6.20), 6057 should be of the format 'LONG ENUM',\n",
    "    # however, it is not working with the scom. So 'INT32' was tested\n",
    "    # and used here\n",
    "    r6057.write(4)\n",
    "    ###########################################################\n",
    "    # 2. Nomonal capacity (Ah@C20) --- 6001\n",
    "    r6001.write(38)\n",
    "    ###########################################################\n",
    "    # 3. Nominal discharge duration (C-rating) --- 6002\n",
    "    r6002.write(20)\n",
    "    ###########################################################\n",
    "    # 4. Nominal shunt current (A) --- 6017\n",
    "    r6017.write(500)\n",
    "    ###########################################################\n",
    "    # 5. Nominal shunt voltage (mV) --- 6018\n",
    "    r6018.write(50)\n",
    "    ###########################################################\n",
    "    # 6. Use C20(aka C/20) as reference value (1 for yes, 0 for no) --- 6049\n",
    "    r6049.write(1)\n",
    "    ###########################################################\n",
    "    # 7. Battery current limitation activation --- 6058\n",
    "    # boolean format: 1 for yes, 0 for no\n",
    "    r6058.write(1)\n",
    "    ###########################################################\n",
    "    # 8. Max battery charge current --- 6059\n",
    "    # For lead acid battery, the charging current should be between 10 and 30 percent of the rated capacity. \n",
    "    # A 10Ah battery at 30 percent charges at about 3A; the percentage can be lower. An 80Ah starter battery\n",
    "    # may charge at 8A. (A 10 percent charge rate is equal to 0.1C.)\n",
    "    # For further information please refer to the link below.\n",
    "    # http://batteryuniversity.com/learn/article/charging_with_a_power_supply\n",
    "    # In our system, the capacity at C20 is 38 and 30% of it is 11.4 A. So we\n",
    "    # set our limitation value to 10A\n",
    "    r6059.write(10)\n",
    "    elapsed_time = time.time() - start_time\n",
    "    print 'BSP initializaiton finished, took ' + str(elapsed_time) + ' seconds'\n",
    "###########################################################"
   ]
  },
  {
   "cell_type": "code",
   "execution_count": null,
   "metadata": {
    "collapsed": false,
    "scrolled": false
   },
   "outputs": [],
   "source": [
    "#py2output = subprocess.Popen(dir_scom + '--port=COM1 --verbose=3 read_property src_addr=1 dst_addr=101 object_type=2 object_id=1526 property_id=5 format=INT32', stdout=subprocess.PIPE, stderr=subprocess.PIPE)\n",
    "#str_output = py2output.stdout.readlines()\n",
    "#response_output = str_output[-7]\n",
    "#print response_output=='response:\\r\\n'\n",
    "#raw_data = str_output[-1]\n",
    "#data = int(filter(str.isdigit,raw_data))\n",
    "#print data\n",
    "#cmd = '--verbose=3 write_property src_addr=1 dst_addr=601 object_type=2 object_id=6057 property_id=5 format=FLOAT value=34'\n",
    "#send_command(cmd)\n",
    "\n",
    "cmd = '--verbose=3 read_property src_addr=1 dst_addr=101 object_type=2 object_id=1108 property_id=5 format=FLOAT'\n",
    "data = read_info(cmd)\n",
    "print data\n",
    "\n",
    "cmd = '--verbose=3 read_property src_addr=1 dst_addr=101 object_type=2 object_id=1109 property_id=5 format=FLOAT'\n",
    "data = read_info(cmd)\n",
    "print data"
   ]
  }
 ],
 "metadata": {
  "anaconda-cloud": {},
  "kernelspec": {
   "display_name": "Python 2",
   "language": "python",
   "name": "python2"
  },
  "language_info": {
   "codemirror_mode": {
    "name": "ipython",
    "version": 2
   },
   "file_extension": ".py",
   "mimetype": "text/x-python",
   "name": "python",
   "nbconvert_exporter": "python",
   "pygments_lexer": "ipython2",
   "version": "2.7.13"
  }
 },
 "nbformat": 4,
 "nbformat_minor": 1
}
