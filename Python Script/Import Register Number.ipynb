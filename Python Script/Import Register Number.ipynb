{
 "cells": [
  {
   "cell_type": "markdown",
   "metadata": {},
   "source": [
    "**Description**: the following script is to import register info from 'Xtender Settings Manager v1.5.16.xlsb' for time saving purpose\n",
    "\n",
    "**Developing Operating System**: Windows 7 Enterprise SP1\n",
    "\n",
    "**Developing Environment**: Anaconda Python 2.7.13\n",
    "\n",
    "**First created**: 12/04/2017 (10th March 2017)\n",
    "\n",
    "**Last modified**: 12/04/2017\n",
    "\n",
    "**Author**: Minghao Xu\n",
    "\n",
    "**Script Version**: 1.0"
   ]
  },
  {
   "cell_type": "markdown",
   "metadata": {},
   "source": [
    "## 1. Import packages"
   ]
  },
  {
   "cell_type": "code",
   "execution_count": 1,
   "metadata": {
    "collapsed": true
   },
   "outputs": [],
   "source": [
    "import os\n",
    "import numpy as np\n",
    "import pandas as pd"
   ]
  },
  {
   "cell_type": "markdown",
   "metadata": {},
   "source": [
    "## 2. Set pre-defined paramets and functions"
   ]
  },
  {
   "cell_type": "markdown",
   "metadata": {},
   "source": [
    "### 2.1 Pre-define parameters and paths"
   ]
  },
  {
   "cell_type": "code",
   "execution_count": 2,
   "metadata": {
    "collapsed": false
   },
   "outputs": [],
   "source": [
    "# paths\n",
    "cwd  = os.getcwd()\n",
    "file_dir = cwd + '\\Software'\n",
    "file_path = file_dir + '\\Xtender Settings Manager v1.5.16.xlsx'\n",
    "# port\n",
    "port_name = 'COM1'\n",
    "# verbose\n",
    "verbose_num = 3"
   ]
  },
  {
   "cell_type": "markdown",
   "metadata": {
    "collapsed": false
   },
   "source": [
    "### 2.2 Pre-define file importing function"
   ]
  },
  {
   "cell_type": "code",
   "execution_count": 3,
   "metadata": {
    "collapsed": true
   },
   "outputs": [],
   "source": [
    "def read_parameter(file_name,sheet_name,row_start,row_end):\n",
    "    column_start = 0\n",
    "    column_end = 2\n",
    "    tmp = pd.read_excel(file_name,sheetname = sheet_name)\n",
    "    tmp = tmp.iloc[(row_start-2):(row_end-1),column_start:column_end]\n",
    "    tmp.columns = ['property_id','description']\n",
    "    return tmp"
   ]
  },
  {
   "cell_type": "markdown",
   "metadata": {},
   "source": [
    "## 3 Read and save data"
   ]
  },
  {
   "cell_type": "markdown",
   "metadata": {},
   "source": [
    "### 3.1 Read parameters from file"
   ]
  },
  {
   "cell_type": "code",
   "execution_count": 4,
   "metadata": {
    "collapsed": false
   },
   "outputs": [],
   "source": [
    "Xtender_list = read_parameter(file_path,'Xtender',10,412)\n",
    "BSP_list = read_parameter(file_path,'BSP',10,28)\n",
    "RCC_list = read_parameter(file_path,'RCC',10,103)"
   ]
  },
  {
   "cell_type": "markdown",
   "metadata": {},
   "source": [
    "### 3.2 Save files"
   ]
  },
  {
   "cell_type": "code",
   "execution_count": 5,
   "metadata": {
    "collapsed": false
   },
   "outputs": [],
   "source": [
    "save_dir = cwd + '\\ParameterFiles'\n",
    "if not os.path.exists(save_dir):\n",
    "    os.makedirs(save_dir)\n",
    "Xtender_list.to_csv((save_dir + '\\Xtender_list.csv'), index=False)\n",
    "BSP_list.to_csv((save_dir + '\\BSP_list.csv'), index=False)\n",
    "RCC_list.to_csv((save_dir + '\\RCC_list.csv'), index=False)"
   ]
  }
 ],
 "metadata": {
  "anaconda-cloud": {},
  "kernelspec": {
   "display_name": "Python 2",
   "language": "python",
   "name": "python2"
  },
  "language_info": {
   "codemirror_mode": {
    "name": "ipython",
    "version": 2
   },
   "file_extension": ".py",
   "mimetype": "text/x-python",
   "name": "python",
   "nbconvert_exporter": "python",
   "pygments_lexer": "ipython2",
   "version": "2.7.13"
  }
 },
 "nbformat": 4,
 "nbformat_minor": 1
}
